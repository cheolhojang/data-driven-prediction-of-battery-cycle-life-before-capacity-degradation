{
 "cells": [
  {
   "cell_type": "code",
   "execution_count": 121,
   "metadata": {},
   "outputs": [],
   "source": [
    "from tools import *\n",
    "import matplotlib.pyplot as plt\n",
    "import numpy as np\n",
    "#pd.set_option('display.max_rows', None)\n",
    "#pd.set_option('display.max_columns', None)\n",
    "#pd.set_option('expand_frame_repr', False)\n",
    "qa = pd.read_csv('QA_metadata_tabDelimited.txt', sep = \"\\t\")\n",
    "simplified = qa[['ProcessDataID', 'CodeName', 'cathodeMass']]\n",
    "simplified = simplified.dropna()"
   ]
  },
  {
   "cell_type": "code",
   "execution_count": 44,
   "metadata": {},
   "outputs": [
    {
     "output_type": "stream",
     "name": "stdout",
     "text": "ProcessDataID_184982_tabDelimited.txt\nProcessDataID_184985_tabDelimited.txt\nProcessDataID_184988_tabDelimited.txt\nProcessDataID_184991_tabDelimited.txt\nProcessDataID_184994_tabDelimited.txt\nProcessDataID_184997_tabDelimited.txt\nProcessDataID_185000_tabDelimited.txt\nProcessDataID_185003_tabDelimited.txt\nProcessDataID_185006_tabDelimited.txt\nProcessDataID_185009_tabDelimited.txt\nProcessDataID_185012_tabDelimited.txt\nProcessDataID_185015_tabDelimited.txt\nProcessDataID_185018_tabDelimited.txt\nProcessDataID_185021_tabDelimited.txt\nProcessDataID_185024_tabDelimited.txt\nProcessDataID_185027_tabDelimited.txt\n184982.0\n184985.0\n184988.0\n184991.0\n184994.0\n184997.0\n185000.0\n185003.0\n185006.0\n185009.0\n185012.0\n185015.0\n185018.0\n185021.0\n185024.0\n185027.0\n"
    }
   ],
   "source": [
    "path_list = path_listing(r'C:\\Users\\cjang.WILDCAT\\Desktop\\data_driven\\CJ_work')\n",
    "ids = []\n",
    "for i in path_list:\n",
    "    up1 = i.strip('ProcessDataID_')\n",
    "    no = up1.strip('_tabDelimited.txt')\n",
    "    ids.append(float(no))\n",
    "    print(float(no))"
   ]
  },
  {
   "cell_type": "code",
   "execution_count": 45,
   "metadata": {},
   "outputs": [],
   "source": [
    "df = pd.read_csv(path_list[0], sep = \"\\t\")\n",
    "i = list(simplified['ProcessDataID'])\n",
    "df['cathodeMass'] = np.ones(len(df)) * simplified.iloc[i.index(df['ProcessDataID'][1])].cathodeMass\n",
    "df['divided'] = df['StateCapacity_mAh']/df['cathodeMass']\n",
    "df = df[['ProcessDataID', 'StepNumber', 'Cycle', 'Step','State', 'Voltage_V', 'cathodeMass', 'StateCapacity_mAh', 'divided']]\n",
    "df = df[df['Step'] == \"ApplyCurrent\"]\n",
    "cycle_ten = df[df['Cycle'] == 10]\n",
    "cycle_hun = df[df['Cycle'] == 100]\n",
    "\n",
    "tenth_dis = cycle_ten[(cycle_ten['State'] == 'Discharge')]\n",
    "tenth_charge = cycle_ten[(cycle_ten['State'] == 'Charge')]\n",
    "\n",
    "hundth_dis = cycle_hun[(cycle_hun['State'] == 'Discharge')]\n",
    "hundth_charge = cycle_hun[(cycle_hun['State'] == 'Charge')]\n",
    "\n",
    "figure(num=None, figsize=(10, 10), dpi=80, facecolor='w', edgecolor='k')\n",
    "\n",
    "fp = tenth_dis['divided']\n",
    "xp = tenth_dis['Voltage_V']\n",
    "new_vals = hundth_dis['Voltage_V']\n",
    "f = interpolate.interp1d(xp,fp,fill_value='extrapolate')\n",
    "hundth_dis['interp_divided'] = list(f(new_vals))\n",
    "hundth_dis['difference'] = abs(hundth_dis['divided'] - hundth_dis['interp_divided'])\n",
    "\n",
    "fpc = tenth_charge['divided']\n",
    "xpc = tenth_charge['Voltage_V']\n",
    "new_valsc = hundth_charge['Voltage_V']\n",
    "fc = interpolate.interp1d(xpc,fpc,fill_value='extrapolate')\n",
    "hundth_charge['interp_divided'] = list(fc(new_valsc))\n",
    "hundth_charge['difference'] = abs(hundth_charge['divided'] - hundth_charge['interp_divided'])\n",
    "\n",
    "plt.plot(hundth_charge['Voltage_V'], hundth_charge['difference'])\n",
    "plt.plot(hundth_dis['Voltage_V'], hundth_dis['difference'])\n",
    "\n",
    "#plt.plot(hundth_charge['Voltage_V'], hundth_charge['divided'])\n",
    "#plt.plot(hundth_dis['Voltage_V'], hundth_dis['divided'])\n",
    "\n",
    "#plt.plot(tenth_charge['Voltage_V'], tenth_charge['divided'])\n",
    "#plt.plot(tenth_dis['Voltage_V'], tenth_dis['divided'])"
   ]
  }
 ],
 "metadata": {
  "language_info": {
   "codemirror_mode": {
    "name": "ipython",
    "version": 3
   },
   "file_extension": ".py",
   "mimetype": "text/x-python",
   "name": "python",
   "nbconvert_exporter": "python",
   "pygments_lexer": "ipython3",
   "version": "3.7.6-final"
  },
  "orig_nbformat": 2,
  "kernelspec": {
   "name": "python3",
   "display_name": "Python 3"
  }
 },
 "nbformat": 4,
 "nbformat_minor": 2
}