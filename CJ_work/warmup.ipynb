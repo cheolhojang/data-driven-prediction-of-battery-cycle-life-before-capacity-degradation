{
 "nbformat": 4,
 "nbformat_minor": 2,
 "metadata": {
  "language_info": {
   "name": "python",
   "codemirror_mode": {
    "name": "ipython",
    "version": 3
   },
   "version": "3.7.6-final"
  },
  "orig_nbformat": 2,
  "file_extension": ".py",
  "mimetype": "text/x-python",
  "name": "python",
  "npconvert_exporter": "python",
  "pygments_lexer": "ipython3",
  "version": 3,
  "kernelspec": {
   "name": "python3",
   "display_name": "Python 3"
  }
 },
 "cells": [
  {
   "cell_type": "code",
   "execution_count": 1,
   "metadata": {},
   "outputs": [],
   "source": [
    "import pandas as pd\n",
    "import numpy as np\n",
    "#pd.set_option('display.max_rows', None)\n",
    "#pd.set_option('display.max_columns', None)\n",
    "#pd.set_option('expand_frame_repr', False)"
   ]
  },
  {
   "cell_type": "code",
   "execution_count": 2,
   "metadata": {},
   "outputs": [],
   "source": [
    "df = pd.read_csv('QA_98_01_Input.csv')"
   ]
  },
  {
   "cell_type": "code",
   "execution_count": 17,
   "metadata": {},
   "outputs": [
    {
     "output_type": "execute_result",
     "data": {
      "text/plain": "                 Step  Channel Library CellAssembly      Mass  \\\n0       DefineLibrary      NaN      QA      SW v2.4       NaN   \n1  DefineCellAssembly      NaN     NaN           98       NaN   \n2          DefineMass      1.0     NaN          NaN  18.27899   \n3          DefineMass      2.0     NaN          NaN  18.45892   \n4          DefineMass      3.0     NaN          NaN  18.28846   \n\n   ExpectedCapacity Flag1  Flag2 Flag3  TimeLimit  ...  UpperCurrentLimit  \\\n0               NaN   NaN    NaN   NaN        NaN  ...                NaN   \n1               4.0   NaN    NaN   NaN        NaN  ...                NaN   \n2             185.0   NaN    NaN   NaN        NaN  ...                NaN   \n3             185.0   NaN    NaN   NaN        NaN  ...                NaN   \n4             185.0   NaN    NaN   NaN        NaN  ...                NaN   \n\n   LowerCurrentLimit  CurrentSlope  UpperVoltageSlopeLimit  \\\n0                NaN           NaN                     NaN   \n1                NaN           NaN                     NaN   \n2                NaN           NaN                     NaN   \n3                NaN           NaN                     NaN   \n4                NaN           NaN                     NaN   \n\n   LowerVoltageSlopeLimit  VoltageSlope  UpperCurrentSlopeLimit  \\\n0                     NaN           NaN                     NaN   \n1                     NaN           NaN                     NaN   \n2                     NaN           NaN                     NaN   \n3                     NaN           NaN                     NaN   \n4                     NaN           NaN                     NaN   \n\n   LowerCurrentSlopeLimit  degC  Capacity/Mass  \n0                     NaN   NaN            NaN  \n1                     NaN   NaN            NaN  \n2                     NaN   NaN      10.120909  \n3                     NaN   NaN      10.022255  \n4                     NaN   NaN      10.115669  \n\n[5 rows x 25 columns]",
      "text/html": "<div>\n<style scoped>\n    .dataframe tbody tr th:only-of-type {\n        vertical-align: middle;\n    }\n\n    .dataframe tbody tr th {\n        vertical-align: top;\n    }\n\n    .dataframe thead th {\n        text-align: right;\n    }\n</style>\n<table border=\"1\" class=\"dataframe\">\n  <thead>\n    <tr style=\"text-align: right;\">\n      <th></th>\n      <th>Step</th>\n      <th>Channel</th>\n      <th>Library</th>\n      <th>CellAssembly</th>\n      <th>Mass</th>\n      <th>ExpectedCapacity</th>\n      <th>Flag1</th>\n      <th>Flag2</th>\n      <th>Flag3</th>\n      <th>TimeLimit</th>\n      <th>...</th>\n      <th>UpperCurrentLimit</th>\n      <th>LowerCurrentLimit</th>\n      <th>CurrentSlope</th>\n      <th>UpperVoltageSlopeLimit</th>\n      <th>LowerVoltageSlopeLimit</th>\n      <th>VoltageSlope</th>\n      <th>UpperCurrentSlopeLimit</th>\n      <th>LowerCurrentSlopeLimit</th>\n      <th>degC</th>\n      <th>Capacity/Mass</th>\n    </tr>\n  </thead>\n  <tbody>\n    <tr>\n      <th>0</th>\n      <td>DefineLibrary</td>\n      <td>NaN</td>\n      <td>QA</td>\n      <td>SW v2.4</td>\n      <td>NaN</td>\n      <td>NaN</td>\n      <td>NaN</td>\n      <td>NaN</td>\n      <td>NaN</td>\n      <td>NaN</td>\n      <td>...</td>\n      <td>NaN</td>\n      <td>NaN</td>\n      <td>NaN</td>\n      <td>NaN</td>\n      <td>NaN</td>\n      <td>NaN</td>\n      <td>NaN</td>\n      <td>NaN</td>\n      <td>NaN</td>\n      <td>NaN</td>\n    </tr>\n    <tr>\n      <th>1</th>\n      <td>DefineCellAssembly</td>\n      <td>NaN</td>\n      <td>NaN</td>\n      <td>98</td>\n      <td>NaN</td>\n      <td>4.0</td>\n      <td>NaN</td>\n      <td>NaN</td>\n      <td>NaN</td>\n      <td>NaN</td>\n      <td>...</td>\n      <td>NaN</td>\n      <td>NaN</td>\n      <td>NaN</td>\n      <td>NaN</td>\n      <td>NaN</td>\n      <td>NaN</td>\n      <td>NaN</td>\n      <td>NaN</td>\n      <td>NaN</td>\n      <td>NaN</td>\n    </tr>\n    <tr>\n      <th>2</th>\n      <td>DefineMass</td>\n      <td>1.0</td>\n      <td>NaN</td>\n      <td>NaN</td>\n      <td>18.27899</td>\n      <td>185.0</td>\n      <td>NaN</td>\n      <td>NaN</td>\n      <td>NaN</td>\n      <td>NaN</td>\n      <td>...</td>\n      <td>NaN</td>\n      <td>NaN</td>\n      <td>NaN</td>\n      <td>NaN</td>\n      <td>NaN</td>\n      <td>NaN</td>\n      <td>NaN</td>\n      <td>NaN</td>\n      <td>NaN</td>\n      <td>10.120909</td>\n    </tr>\n    <tr>\n      <th>3</th>\n      <td>DefineMass</td>\n      <td>2.0</td>\n      <td>NaN</td>\n      <td>NaN</td>\n      <td>18.45892</td>\n      <td>185.0</td>\n      <td>NaN</td>\n      <td>NaN</td>\n      <td>NaN</td>\n      <td>NaN</td>\n      <td>...</td>\n      <td>NaN</td>\n      <td>NaN</td>\n      <td>NaN</td>\n      <td>NaN</td>\n      <td>NaN</td>\n      <td>NaN</td>\n      <td>NaN</td>\n      <td>NaN</td>\n      <td>NaN</td>\n      <td>10.022255</td>\n    </tr>\n    <tr>\n      <th>4</th>\n      <td>DefineMass</td>\n      <td>3.0</td>\n      <td>NaN</td>\n      <td>NaN</td>\n      <td>18.28846</td>\n      <td>185.0</td>\n      <td>NaN</td>\n      <td>NaN</td>\n      <td>NaN</td>\n      <td>NaN</td>\n      <td>...</td>\n      <td>NaN</td>\n      <td>NaN</td>\n      <td>NaN</td>\n      <td>NaN</td>\n      <td>NaN</td>\n      <td>NaN</td>\n      <td>NaN</td>\n      <td>NaN</td>\n      <td>NaN</td>\n      <td>10.115669</td>\n    </tr>\n  </tbody>\n</table>\n<p>5 rows × 25 columns</p>\n</div>"
     },
     "metadata": {},
     "execution_count": 17
    }
   ],
   "source": [
    "df.head()"
   ]
  },
  {
   "cell_type": "code",
   "execution_count": 11,
   "metadata": {},
   "outputs": [
    {
     "output_type": "execute_result",
     "data": {
      "text/plain": "2     10.120909\n3     10.022255\n4     10.115669\n5     10.089546\n6     10.063558\n7     10.084338\n8     10.120909\n9      9.950784\n10    10.017116\n11    10.163032\n12    10.157747\n13    10.110433\n14    10.027399\n15     9.960932\n16     9.991499\n17     9.960932\ndtype: float64"
     },
     "metadata": {},
     "execution_count": 11
    }
   ],
   "source": [
    "ratio_column = df['ExpectedCapacity']/df['Mass']\n",
    "ratio_column[2:18]"
   ]
  },
  {
   "cell_type": "code",
   "execution_count": 12,
   "metadata": {},
   "outputs": [],
   "source": [
    "df[\"Capacity/Mass\"] = ratio_column"
   ]
  },
  {
   "cell_type": "code",
   "execution_count": 18,
   "metadata": {},
   "outputs": [
    {
     "output_type": "execute_result",
     "data": {
      "text/plain": "                 Step  Channel      Mass  ExpectedCapacity  Capacity/Mass\n0       DefineLibrary      NaN       NaN               NaN            NaN\n1  DefineCellAssembly      NaN       NaN               4.0            NaN\n2          DefineMass      1.0  18.27899             185.0      10.120909\n3          DefineMass      2.0  18.45892             185.0      10.022255\n4          DefineMass      3.0  18.28846             185.0      10.115669\n5          DefineMass      4.0  18.33581             185.0      10.089546\n6          DefineMass      5.0  18.38316             185.0      10.063558\n7          DefineMass      6.0  18.34528             185.0      10.084338\n8          DefineMass      7.0  18.27899             185.0      10.120909\n9          DefineMass      8.0  18.59150             185.0       9.950784",
      "text/html": "<div>\n<style scoped>\n    .dataframe tbody tr th:only-of-type {\n        vertical-align: middle;\n    }\n\n    .dataframe tbody tr th {\n        vertical-align: top;\n    }\n\n    .dataframe thead th {\n        text-align: right;\n    }\n</style>\n<table border=\"1\" class=\"dataframe\">\n  <thead>\n    <tr style=\"text-align: right;\">\n      <th></th>\n      <th>Step</th>\n      <th>Channel</th>\n      <th>Mass</th>\n      <th>ExpectedCapacity</th>\n      <th>Capacity/Mass</th>\n    </tr>\n  </thead>\n  <tbody>\n    <tr>\n      <th>0</th>\n      <td>DefineLibrary</td>\n      <td>NaN</td>\n      <td>NaN</td>\n      <td>NaN</td>\n      <td>NaN</td>\n    </tr>\n    <tr>\n      <th>1</th>\n      <td>DefineCellAssembly</td>\n      <td>NaN</td>\n      <td>NaN</td>\n      <td>4.0</td>\n      <td>NaN</td>\n    </tr>\n    <tr>\n      <th>2</th>\n      <td>DefineMass</td>\n      <td>1.0</td>\n      <td>18.27899</td>\n      <td>185.0</td>\n      <td>10.120909</td>\n    </tr>\n    <tr>\n      <th>3</th>\n      <td>DefineMass</td>\n      <td>2.0</td>\n      <td>18.45892</td>\n      <td>185.0</td>\n      <td>10.022255</td>\n    </tr>\n    <tr>\n      <th>4</th>\n      <td>DefineMass</td>\n      <td>3.0</td>\n      <td>18.28846</td>\n      <td>185.0</td>\n      <td>10.115669</td>\n    </tr>\n    <tr>\n      <th>5</th>\n      <td>DefineMass</td>\n      <td>4.0</td>\n      <td>18.33581</td>\n      <td>185.0</td>\n      <td>10.089546</td>\n    </tr>\n    <tr>\n      <th>6</th>\n      <td>DefineMass</td>\n      <td>5.0</td>\n      <td>18.38316</td>\n      <td>185.0</td>\n      <td>10.063558</td>\n    </tr>\n    <tr>\n      <th>7</th>\n      <td>DefineMass</td>\n      <td>6.0</td>\n      <td>18.34528</td>\n      <td>185.0</td>\n      <td>10.084338</td>\n    </tr>\n    <tr>\n      <th>8</th>\n      <td>DefineMass</td>\n      <td>7.0</td>\n      <td>18.27899</td>\n      <td>185.0</td>\n      <td>10.120909</td>\n    </tr>\n    <tr>\n      <th>9</th>\n      <td>DefineMass</td>\n      <td>8.0</td>\n      <td>18.59150</td>\n      <td>185.0</td>\n      <td>9.950784</td>\n    </tr>\n  </tbody>\n</table>\n</div>"
     },
     "metadata": {},
     "execution_count": 18
    }
   ],
   "source": [
    "df[['Step', 'Channel', 'Mass', 'ExpectedCapacity', 'Capacity/Mass']].head(10)"
   ]
  }
 ]
}